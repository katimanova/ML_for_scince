{
 "cells": [
  {
   "cell_type": "markdown",
   "metadata": {},
   "source": [
    "## **Задание №2**\n",
    "\n",
    "### Построение и оценка качества бейзлайна\n",
    "\n",
    "#### Задачи:\n",
    "В рамках данного этапа необходимо:\n",
    "1. Выбрать и обучить бейзлайн-модели.\n",
    "2. Измерить качество предсказаний.\n",
    "\n",
    "\n",
    "#### Критерии оценки:\n",
    "\n",
    "- **Разбиение датасета на тренировочную/тестовую выборки**  \n",
    "  _2 балла_  \n",
    "  Датасет должен быть корректно разделён на обучающую и тестовую выборки.\n",
    "\n",
    "- **Измерение качества константного предсказания**  \n",
    "  _3 балла_  \n",
    "  Для задачи регрессии нужно использовать предсказания, основанные на простых константных значениях:\n",
    "  - Среднее значение целевой переменной.\n",
    "  - Медиана целевой переменной.\n",
    "\n",
    "- **Обучение бейзлайновой модели**  \n",
    "  _6 баллов_  \n",
    "  Использовать простую модель, такую как:\n",
    "  - Линейная регрессия.\n",
    "\n",
    "- **Оценка качества на тестовой выборке**  \n",
    "  _2 балла_  \n",
    "  Измерить качество модели на отложенной выборке, используя выбранную метрику (например, `MAE`, `RMSE` или `R2`).\n",
    "\n",
    "- **Воспроизводимость решения**  \n",
    "  _3 балла_  \n",
    "  - Зафиксировать `random_state` для всех случайных процессов.\n",
    "  - Убедиться, что ноутбук воспроизводится от начала до конца без ошибок.\n",
    "\n",
    "- **Соблюдение code style**  \n",
    "  _4 балла_  \n",
    "  - Код соответствует стандартам PEP8.\n",
    "  - Jupyter Notebook оформлен в стиле \"On writing clean Jupyter notebooks\".\n",
    "\n",
    "- **Обоснование принимаемых решений**  \n",
    "  _10 баллов_  \n",
    "  Каждое принятое решение должно быть прокомментировано в markdown-ячейках. Например:\n",
    "  - Почему выбран метод кодирования категориальных переменных.\n",
    "  - Почему используется определённая метрика для оценки качества.\n",
    "  - Почему выбрана конкретная модель.\n",
    "\n",
    "#### Ожидаемый результат:\n",
    "1. Разделение данных на тренировочную и тестовую выборки.\n",
    "2. Измерение качества константного предсказания (среднее/медиана).\n",
    "3. Обучение бейзлайновой модели на тренировочной выборке.\n",
    "4. Измерение качества модели на тестовой выборке.\n",
    "5. Воспроизводимость работы ноутбука.\n",
    "6. Чистый код и подробные пояснения."
   ]
  },
  {
   "cell_type": "markdown",
   "metadata": {},
   "source": [
    "### Импорт необходимых библиотек"
   ]
  },
  {
   "cell_type": "code",
   "execution_count": null,
   "metadata": {},
   "outputs": [],
   "source": [
    "# визуализация данных\n",
    "import pandas as pd\n",
    "import numpy as np\n",
    "import seaborn as sns\n",
    "import matplotlib.pyplot as plt\n",
    "\n",
    "# обработка данных\n",
    "from sklearn.model_selection import train_test_split\n",
    "from sklearn.metrics import mean_squared_error, mean_absolute_error, r2_score\n",
    "from sklearn.linear_model import LinearRegression\n",
    "from sklearn.preprocessing import LabelEncoder, StandardScaler, OneHotEncoder, RobustScaler\n",
    "from sklearn.compose import ColumnTransformer\n",
    "from sklearn.pipeline import Pipeline\n",
    "from sklearn.impute import SimpleImputer"
   ]
  },
  {
   "cell_type": "markdown",
   "metadata": {},
   "source": [
    "### Разбиение датасета "
   ]
  },
  {
   "cell_type": "code",
   "execution_count": 62,
   "metadata": {},
   "outputs": [
    {
     "name": "stdout",
     "output_type": "stream",
     "text": [
      "Размер датасета : (20640, 10)\n"
     ]
    },
    {
     "data": {
      "text/html": [
       "<div>\n",
       "<style scoped>\n",
       "    .dataframe tbody tr th:only-of-type {\n",
       "        vertical-align: middle;\n",
       "    }\n",
       "\n",
       "    .dataframe tbody tr th {\n",
       "        vertical-align: top;\n",
       "    }\n",
       "\n",
       "    .dataframe thead th {\n",
       "        text-align: right;\n",
       "    }\n",
       "</style>\n",
       "<table border=\"1\" class=\"dataframe\">\n",
       "  <thead>\n",
       "    <tr style=\"text-align: right;\">\n",
       "      <th></th>\n",
       "      <th>longitude</th>\n",
       "      <th>latitude</th>\n",
       "      <th>housing_median_age</th>\n",
       "      <th>total_rooms</th>\n",
       "      <th>total_bedrooms</th>\n",
       "      <th>population</th>\n",
       "      <th>households</th>\n",
       "      <th>median_income</th>\n",
       "      <th>median_house_value</th>\n",
       "      <th>ocean_proximity</th>\n",
       "    </tr>\n",
       "  </thead>\n",
       "  <tbody>\n",
       "    <tr>\n",
       "      <th>0</th>\n",
       "      <td>-122.23</td>\n",
       "      <td>37.88</td>\n",
       "      <td>41.0</td>\n",
       "      <td>880.0</td>\n",
       "      <td>129.0</td>\n",
       "      <td>322.0</td>\n",
       "      <td>126.0</td>\n",
       "      <td>8.3252</td>\n",
       "      <td>452600.0</td>\n",
       "      <td>NEAR BAY</td>\n",
       "    </tr>\n",
       "    <tr>\n",
       "      <th>1</th>\n",
       "      <td>-122.22</td>\n",
       "      <td>37.86</td>\n",
       "      <td>21.0</td>\n",
       "      <td>7099.0</td>\n",
       "      <td>1106.0</td>\n",
       "      <td>2401.0</td>\n",
       "      <td>1138.0</td>\n",
       "      <td>8.3014</td>\n",
       "      <td>358500.0</td>\n",
       "      <td>NEAR BAY</td>\n",
       "    </tr>\n",
       "    <tr>\n",
       "      <th>2</th>\n",
       "      <td>-122.24</td>\n",
       "      <td>37.85</td>\n",
       "      <td>52.0</td>\n",
       "      <td>1467.0</td>\n",
       "      <td>190.0</td>\n",
       "      <td>496.0</td>\n",
       "      <td>177.0</td>\n",
       "      <td>7.2574</td>\n",
       "      <td>352100.0</td>\n",
       "      <td>NEAR BAY</td>\n",
       "    </tr>\n",
       "    <tr>\n",
       "      <th>3</th>\n",
       "      <td>-122.25</td>\n",
       "      <td>37.85</td>\n",
       "      <td>52.0</td>\n",
       "      <td>1274.0</td>\n",
       "      <td>235.0</td>\n",
       "      <td>558.0</td>\n",
       "      <td>219.0</td>\n",
       "      <td>5.6431</td>\n",
       "      <td>341300.0</td>\n",
       "      <td>NEAR BAY</td>\n",
       "    </tr>\n",
       "    <tr>\n",
       "      <th>4</th>\n",
       "      <td>-122.25</td>\n",
       "      <td>37.85</td>\n",
       "      <td>52.0</td>\n",
       "      <td>1627.0</td>\n",
       "      <td>280.0</td>\n",
       "      <td>565.0</td>\n",
       "      <td>259.0</td>\n",
       "      <td>3.8462</td>\n",
       "      <td>342200.0</td>\n",
       "      <td>NEAR BAY</td>\n",
       "    </tr>\n",
       "    <tr>\n",
       "      <th>...</th>\n",
       "      <td>...</td>\n",
       "      <td>...</td>\n",
       "      <td>...</td>\n",
       "      <td>...</td>\n",
       "      <td>...</td>\n",
       "      <td>...</td>\n",
       "      <td>...</td>\n",
       "      <td>...</td>\n",
       "      <td>...</td>\n",
       "      <td>...</td>\n",
       "    </tr>\n",
       "    <tr>\n",
       "      <th>20635</th>\n",
       "      <td>-121.09</td>\n",
       "      <td>39.48</td>\n",
       "      <td>25.0</td>\n",
       "      <td>1665.0</td>\n",
       "      <td>374.0</td>\n",
       "      <td>845.0</td>\n",
       "      <td>330.0</td>\n",
       "      <td>1.5603</td>\n",
       "      <td>78100.0</td>\n",
       "      <td>INLAND</td>\n",
       "    </tr>\n",
       "    <tr>\n",
       "      <th>20636</th>\n",
       "      <td>-121.21</td>\n",
       "      <td>39.49</td>\n",
       "      <td>18.0</td>\n",
       "      <td>697.0</td>\n",
       "      <td>150.0</td>\n",
       "      <td>356.0</td>\n",
       "      <td>114.0</td>\n",
       "      <td>2.5568</td>\n",
       "      <td>77100.0</td>\n",
       "      <td>INLAND</td>\n",
       "    </tr>\n",
       "    <tr>\n",
       "      <th>20637</th>\n",
       "      <td>-121.22</td>\n",
       "      <td>39.43</td>\n",
       "      <td>17.0</td>\n",
       "      <td>2254.0</td>\n",
       "      <td>485.0</td>\n",
       "      <td>1007.0</td>\n",
       "      <td>433.0</td>\n",
       "      <td>1.7000</td>\n",
       "      <td>92300.0</td>\n",
       "      <td>INLAND</td>\n",
       "    </tr>\n",
       "    <tr>\n",
       "      <th>20638</th>\n",
       "      <td>-121.32</td>\n",
       "      <td>39.43</td>\n",
       "      <td>18.0</td>\n",
       "      <td>1860.0</td>\n",
       "      <td>409.0</td>\n",
       "      <td>741.0</td>\n",
       "      <td>349.0</td>\n",
       "      <td>1.8672</td>\n",
       "      <td>84700.0</td>\n",
       "      <td>INLAND</td>\n",
       "    </tr>\n",
       "    <tr>\n",
       "      <th>20639</th>\n",
       "      <td>-121.24</td>\n",
       "      <td>39.37</td>\n",
       "      <td>16.0</td>\n",
       "      <td>2785.0</td>\n",
       "      <td>616.0</td>\n",
       "      <td>1387.0</td>\n",
       "      <td>530.0</td>\n",
       "      <td>2.3886</td>\n",
       "      <td>89400.0</td>\n",
       "      <td>INLAND</td>\n",
       "    </tr>\n",
       "  </tbody>\n",
       "</table>\n",
       "<p>20640 rows × 10 columns</p>\n",
       "</div>"
      ],
      "text/plain": [
       "       longitude  latitude  housing_median_age  total_rooms  total_bedrooms  \\\n",
       "0        -122.23     37.88                41.0        880.0           129.0   \n",
       "1        -122.22     37.86                21.0       7099.0          1106.0   \n",
       "2        -122.24     37.85                52.0       1467.0           190.0   \n",
       "3        -122.25     37.85                52.0       1274.0           235.0   \n",
       "4        -122.25     37.85                52.0       1627.0           280.0   \n",
       "...          ...       ...                 ...          ...             ...   \n",
       "20635    -121.09     39.48                25.0       1665.0           374.0   \n",
       "20636    -121.21     39.49                18.0        697.0           150.0   \n",
       "20637    -121.22     39.43                17.0       2254.0           485.0   \n",
       "20638    -121.32     39.43                18.0       1860.0           409.0   \n",
       "20639    -121.24     39.37                16.0       2785.0           616.0   \n",
       "\n",
       "       population  households  median_income  median_house_value  \\\n",
       "0           322.0       126.0         8.3252            452600.0   \n",
       "1          2401.0      1138.0         8.3014            358500.0   \n",
       "2           496.0       177.0         7.2574            352100.0   \n",
       "3           558.0       219.0         5.6431            341300.0   \n",
       "4           565.0       259.0         3.8462            342200.0   \n",
       "...           ...         ...            ...                 ...   \n",
       "20635       845.0       330.0         1.5603             78100.0   \n",
       "20636       356.0       114.0         2.5568             77100.0   \n",
       "20637      1007.0       433.0         1.7000             92300.0   \n",
       "20638       741.0       349.0         1.8672             84700.0   \n",
       "20639      1387.0       530.0         2.3886             89400.0   \n",
       "\n",
       "      ocean_proximity  \n",
       "0            NEAR BAY  \n",
       "1            NEAR BAY  \n",
       "2            NEAR BAY  \n",
       "3            NEAR BAY  \n",
       "4            NEAR BAY  \n",
       "...               ...  \n",
       "20635          INLAND  \n",
       "20636          INLAND  \n",
       "20637          INLAND  \n",
       "20638          INLAND  \n",
       "20639          INLAND  \n",
       "\n",
       "[20640 rows x 10 columns]"
      ]
     },
     "execution_count": 62,
     "metadata": {},
     "output_type": "execute_result"
    }
   ],
   "source": [
    "# Подгрузка датасета \n",
    "df = pd.read_csv('../data/housing.csv')\n",
    "print(f'Размер датасета : {df.shape}')\n",
    "df"
   ]
  },
  {
   "cell_type": "code",
   "execution_count": 63,
   "metadata": {},
   "outputs": [],
   "source": [
    "# Целевая переменная\n",
    "y = df['median_house_value']\n",
    "\n",
    "# Признаки (все столбцы, кроме 'median_house_value')\n",
    "X = df.drop(columns=['median_house_value'])"
   ]
  },
  {
   "cell_type": "code",
   "execution_count": 64,
   "metadata": {},
   "outputs": [
    {
     "name": "stdout",
     "output_type": "stream",
     "text": [
      "Размер тренировочной выборки: (16512, 9)\n",
      "Размер тестовой выборки: (4128, 9)\n"
     ]
    }
   ],
   "source": [
    "# Разделяем на тренировочную и тестовую выборки (80% на тренировочную, 20% на тестовую)\n",
    "X_train, X_test, y_train, y_test = train_test_split(X, y, random_state=21, test_size=0.2)\n",
    "\n",
    "print(f\"Размер тренировочной выборки: {X_train.shape}\")\n",
    "print(f\"Размер тестовой выборки: {X_test.shape}\")"
   ]
  },
  {
   "cell_type": "markdown",
   "metadata": {},
   "source": [
    "#### Какую модель будем рассматривать?\n",
    "`Линейная регрессия` лучше подходит для предсказания цены на жилье, так как она проста, интерпретируема, хорошо работает с непрерывными данными и эффективно выявляет линейные зависимости между ценой и признаками, такими как площадь, доход или возраст дома."
   ]
  },
  {
   "cell_type": "markdown",
   "metadata": {},
   "source": [
    "## Часть 1. Оценка пайплайна с стандартной обработкой данных"
   ]
  },
  {
   "cell_type": "markdown",
   "metadata": {},
   "source": [
    "#### **Измерение качества константного предсказания**  "
   ]
  },
  {
   "cell_type": "code",
   "execution_count": 71,
   "metadata": {},
   "outputs": [],
   "source": [
    "# Вычисляем среднее и медиану на тренировочной выборке\n",
    "mean_y_train = y_train.mean()\n",
    "median_y_train = y_train.median()\n",
    "\n",
    "# Создаем константные предсказания для тестовой выборки\n",
    "y_pred_mean = np.full_like(y_test, fill_value=mean_y_train, dtype=np.float64)\n",
    "y_pred_median = np.full_like(y_test, fill_value=median_y_train, dtype=np.float64)\n",
    "\n",
    "# Рассчитываем метрики качества для среднего\n",
    "mse_mean = mean_squared_error(y_test, y_pred_mean)\n",
    "mae_mean = mean_absolute_error(y_test, y_pred_mean)\n",
    "r2_mean = r2_score(y_test, y_pred_mean)\n",
    "\n",
    "# Рассчитываем метрики качества для медианы\n",
    "mse_median = mean_squared_error(y_test, y_pred_median)\n",
    "mae_median = mean_absolute_error(y_test, y_pred_median)\n",
    "r2_median = r2_score(y_test, y_pred_median)"
   ]
  },
  {
   "cell_type": "code",
   "execution_count": 72,
   "metadata": {},
   "outputs": [
    {
     "name": "stdout",
     "output_type": "stream",
     "text": [
      "Качество предсказания средней целевой переменной:\n",
      "MSE: 13444379057.70, MAE: 91812.28, R^2: -0.00\n",
      "\n",
      "Качество предсказания медианной целевой переменной:\n",
      "MSE: 14229285220.88, MAE: 89100.31, R^2: -0.06\n"
     ]
    }
   ],
   "source": [
    "# Выводим результаты\n",
    "print(\"Качество предсказания средней целевой переменной:\")\n",
    "print(f\"MSE: {mse_mean:.2f}, MAE: {mae_mean:.2f}, R^2: {r2_mean:.2f}\\n\")\n",
    "\n",
    "print(\"Качество предсказания медианной целевой переменной:\")\n",
    "print(f\"MSE: {mse_median:.2f}, MAE: {mae_median:.2f}, R^2: {r2_median:.2f}\")"
   ]
  },
  {
   "cell_type": "markdown",
   "metadata": {},
   "source": [
    "#### Зачем выбирались такие метрики?\n",
    "\n",
    "1. **MSE (Mean Squared Error)**:\n",
    "   - Показывает среднеквадратичную разницу между предсказаниями и реальными значениями. Чем меньше MSE, тем точнее модель. Оно чувствительно к выбросам, так как учитывает квадрат ошибок.\n",
    "\n",
    "2. **MAE (Mean Absolute Error)**:\n",
    "   - Показывает среднюю абсолютную ошибку, проще интерпретируется, так как измеряется в тех же единицах, что и целевая переменная. Подходит для понимания типичной ошибки.\n",
    "\n",
    "3. **R² (Коэффициент детерминации)**:\n",
    "   - Показывает, насколько хорошо модель объясняет вариацию данных. Если \\( R^2 = 1 \\), модель идеальна. Если \\( R^2 = 0 \\), модель предсказывает не лучше среднего значения. Отрицательное \\( R^2 \\) говорит, что модель хуже среднего.\n",
    "\n",
    "---\n",
    "\n",
    "#### Результаты метрик:\n",
    "1. **Среднее значение целевой переменной**:\n",
    "   - \\( MSE = 13,444,379,057.70 \\): Ошибки в квадрате велики, что показывает слабую точность.\n",
    "   - \\( MAE = 91,812.28 \\): Средняя ошибка около 91 тыс., значит, предсказания сильно отклоняются от истинных значений.\n",
    "   - \\( R^2 = -0.00 \\): Модель на уровне случайного предсказания, ничего не объясняет.\n",
    "\n",
    "2. **Медианное значение целевой переменной**:\n",
    "   - \\( MSE = 14,229,285,220.88 \\): Чуть хуже среднего.\n",
    "   - \\( MAE = 89,100.31 \\): Немного лучше среднего, медиана менее чувствительна к выбросам.\n",
    "   - \\( R^2 = -0.06 \\): Модель хуже, чем просто предсказание среднего.\n",
    "\n",
    "---\n",
    "\n",
    "#### Вывод:\n",
    "Оба метода показывают, что они плохо объясняют данные и являются только базовыми ориентирами для сравнения."
   ]
  },
  {
   "cell_type": "markdown",
   "metadata": {},
   "source": [
    "#### **Обучение бейзлайновой модели**  "
   ]
  },
  {
   "cell_type": "markdown",
   "metadata": {},
   "source": [
    "Для обработки числовых пропусков используется заполнение средними значениями, чтобы сохранить структуру данных и избежать удаления строк. Для категориальных признаков применяется `One-Hot Encoding`, так как признаки не имеют порядка, что важно для корректной работы линейной регрессии. Масштабирование числовых признаков с помощью `StandardScaler` приводит их к единому масштабу, минимизируя влияние разницы в значениях. Объединение всех шагов в `ColumnTransformer` упрощает обработку данных и обеспечивает единообразие."
   ]
  },
  {
   "cell_type": "code",
   "execution_count": 73,
   "metadata": {},
   "outputs": [],
   "source": [
    "# Определяем числовые и категориальные признаки\n",
    "numeric_features = X_train.select_dtypes(include=['int64', 'float64']).columns\n",
    "categorical_features = X_train.select_dtypes(include=['object']).columns\n",
    "\n",
    "# Создаем процессор для числовых и категориальных признаков\n",
    "preprocessor = ColumnTransformer(\n",
    "    transformers=[\n",
    "        ('num', Pipeline(steps=[\n",
    "            ('imputer', SimpleImputer(strategy='mean')),        # Заполняем пропуски средними\n",
    "            ('scaler', StandardScaler())                        # Масштабируем числовые признаки\n",
    "        ]), numeric_features),\n",
    "        ('cat', Pipeline(steps=[\n",
    "            ('onehot', OneHotEncoder(handle_unknown='ignore'))  # Кодируем категориальные признаки\n",
    "        ]), categorical_features)\n",
    "    ]\n",
    ")\n",
    "\n",
    "# Применяем предобработку к данным\n",
    "X_train_processed = preprocessor.fit_transform(X_train)\n",
    "X_test_processed = preprocessor.transform(X_test)\n",
    "\n",
    "# Обучение модели линейной регрессии\n",
    "model = LinearRegression()\n",
    "model.fit(X_train_processed, y_train)\n",
    "\n",
    "# Предсказания на тестовой выборке\n",
    "y_pred = model.predict(X_test_processed)"
   ]
  },
  {
   "cell_type": "code",
   "execution_count": null,
   "metadata": {},
   "outputs": [
    {
     "name": "stdout",
     "output_type": "stream",
     "text": [
      "Качество модели линейной регрессии:\n",
      "MSE: 4998677973.81, MAE: 51079.21, R^2: 0.63\n"
     ]
    }
   ],
   "source": [
    "# Оценка качества модели\n",
    "mse = mean_squared_error(y_test, y_pred)\n",
    "mae = mean_absolute_error(y_test, y_pred)\n",
    "r2 = r2_score(y_test, y_pred)\n",
    "\n",
    "# Вывод результатов\n",
    "print(\"Качество модели линейной регрессии:\")\n",
    "print(f\"MSE: {mse:.2f}, MAE: {mae:.2f}, R^2: {r2:.2f}\")"
   ]
  },
  {
   "cell_type": "markdown",
   "metadata": {},
   "source": [
    "#### Анализ результата линейной регрессии по сравнению со средней и медианной целевой переменной:\n",
    "\n",
    "1. **Сравнение MSE (Mean Squared Error):**\n",
    "   - Линейная регрессия: \\( MSE = 4,997,306,903.53 \\)\n",
    "   - Среднее: \\( MSE = 13,444,379,057.70 \\)\n",
    "   - Медиана: \\( MSE = 14,229,285,220.88 \\)\n",
    "\n",
    "   **Вывод**: Линейная регрессия значительно уменьшила среднеквадратичную ошибку, что говорит о том, что модель гораздо точнее улавливает зависимости в данных по сравнению с простыми константными предсказаниями.\n",
    "\n",
    "2. **Сравнение MAE (Mean Absolute Error):**\n",
    "   - Линейная регрессия: \\( MAE = 51,067.37 \\)\n",
    "   - Среднее: \\( MAE = 91,812.28 \\)\n",
    "   - Медиана: \\( MAE = 89,100.31 \\)\n",
    "\n",
    "   **Вывод**: Средняя абсолютная ошибка линейной регрессии почти в 1.8 раза меньше, чем у базовых моделей. Это значит, что предсказания линейной регрессии в среднем ближе к реальным значениям.\n",
    "\n",
    "3. **Сравнение \\( R^2 \\) (Коэффициент детерминации):**\n",
    "   - Линейная регрессия: \\( R^2 = 0.63 \\)\n",
    "   - Среднее: \\( R^2 = -0.00 \\)\n",
    "   - Медиана: \\( R^2 = -0.06 \\)\n",
    "\n",
    "   **Вывод**: \\( R^2 = 0.63 \\) для линейной регрессии показывает, что модель объясняет 63% вариации целевой переменной, тогда как у константных моделей \\( R^2 \\) около 0 или отрицательный, что говорит об их неспособности объяснять данные.\n",
    "\n",
    "---\n",
    "\n",
    "#### Общий вывод:\n",
    "Линейная регрессия показывает значительное улучшение качества предсказаний по сравнению с базовыми моделями (средним и медианой). Она лучше объясняет вариацию целевой переменной, имеет меньшие ошибки (MSE и MAE) и демонстрирует, что использованные признаки действительно связаны с целевой переменной. \n",
    "\n",
    "Однако, \\( R^2 = 0.63 \\) указывает на то, что есть ещё потенциал для улучшения модели (например, с помощью более сложных моделей или добавления новых признаков)."
   ]
  },
  {
   "cell_type": "markdown",
   "metadata": {},
   "source": [
    "---\n",
    "## Часть 2. Оценка пайплайна после более детальной обработки данных"
   ]
  },
  {
   "cell_type": "code",
   "execution_count": 75,
   "metadata": {},
   "outputs": [
    {
     "name": "stdout",
     "output_type": "stream",
     "text": [
      "Размер тренировочной выборки: (16512, 9)\n",
      "Размер тестовой выборки: (4128, 9)\n"
     ]
    }
   ],
   "source": [
    "# Разделяем на тренировочную и тестовую выборки (80% на тренировочную, 20% на тестовую)\n",
    "X_train, X_test, y_train, y_test = train_test_split(X, y, random_state=21, test_size=0.2)\n",
    "\n",
    "print(f\"Размер тренировочной выборки: {X_train.shape}\")\n",
    "print(f\"Размер тестовой выборки: {X_test.shape}\")"
   ]
  },
  {
   "cell_type": "markdown",
   "metadata": {},
   "source": [
    "### Предобработка данных\n",
    "\n",
    "Для успешного обучения модели необходимо привести данные к корректному виду. В рамках этого этапа:\n",
    "1. Устраним пропуски в данных.\n",
    "2. Отбросим выбросы.\n",
    "3. Обработаем категориальные признаки."
   ]
  },
  {
   "cell_type": "code",
   "execution_count": 76,
   "metadata": {},
   "outputs": [
    {
     "name": "stdout",
     "output_type": "stream",
     "text": [
      "Пропущенные значения в тренировочной выборке:\n",
      "longitude               0\n",
      "latitude                0\n",
      "housing_median_age      0\n",
      "total_rooms             0\n",
      "total_bedrooms        171\n",
      "population              0\n",
      "households              0\n",
      "median_income           0\n",
      "ocean_proximity         0\n",
      "dtype: int64\n",
      "\n",
      "Пропущенные значения в тестовой выборке:\n",
      "longitude              0\n",
      "latitude               0\n",
      "housing_median_age     0\n",
      "total_rooms            0\n",
      "total_bedrooms        36\n",
      "population             0\n",
      "households             0\n",
      "median_income          0\n",
      "ocean_proximity        0\n",
      "dtype: int64\n"
     ]
    }
   ],
   "source": [
    "# Проверка на пропущенные значения\n",
    "print(\"Пропущенные значения в тренировочной выборке:\")\n",
    "print(X_train.isnull().sum())\n",
    "print(\"\\nПропущенные значения в тестовой выборке:\")\n",
    "print(X_test.isnull().sum())"
   ]
  },
  {
   "cell_type": "markdown",
   "metadata": {},
   "source": [
    "#### Заполнение пропусков медианой\n",
    "\n",
    "Пропущенные значения могут значительно повлиять на работу модели. Для их устранения используем **медиану**:\n",
    "- **Почему медиана?**  \n",
    "  Медиана менее чувствительна к выбросам в данных по сравнению со средним значением, что делает её более устойчивым выбором для заполнения пропусков.\n",
    "\n",
    "Для числовых признаков заполним пропуски медианой, вычисленной на **тренировочной выборке**, чтобы избежать утечки данных.\n"
   ]
  },
  {
   "cell_type": "code",
   "execution_count": 77,
   "metadata": {},
   "outputs": [
    {
     "name": "stdout",
     "output_type": "stream",
     "text": [
      "Числовые признаки: Index(['longitude', 'latitude', 'housing_median_age', 'total_rooms',\n",
      "       'total_bedrooms', 'population', 'households', 'median_income'],\n",
      "      dtype='object')\n",
      "Категориальные признаки: Index(['ocean_proximity'], dtype='object')\n"
     ]
    }
   ],
   "source": [
    "# Разделение столбцов на числовые и категориальные\n",
    "numerical_cols = X_train.select_dtypes(include=['int64', 'float64']).columns\n",
    "categorical_cols = X_train.select_dtypes(include=['object']).columns\n",
    "\n",
    "# Проверка\n",
    "print(f\"Числовые признаки: {numerical_cols}\")\n",
    "print(f\"Категориальные признаки: {categorical_cols}\")"
   ]
  },
  {
   "cell_type": "code",
   "execution_count": 78,
   "metadata": {},
   "outputs": [
    {
     "name": "stdout",
     "output_type": "stream",
     "text": [
      "Пропущенные значения в тренировочной выборке:\n",
      "longitude             0\n",
      "latitude              0\n",
      "housing_median_age    0\n",
      "total_rooms           0\n",
      "total_bedrooms        0\n",
      "population            0\n",
      "households            0\n",
      "median_income         0\n",
      "ocean_proximity       0\n",
      "dtype: int64\n",
      "\n",
      "Пропущенные значения в тестовой выборке:\n",
      "longitude             0\n",
      "latitude              0\n",
      "housing_median_age    0\n",
      "total_rooms           0\n",
      "total_bedrooms        0\n",
      "population            0\n",
      "households            0\n",
      "median_income         0\n",
      "ocean_proximity       0\n",
      "dtype: int64\n"
     ]
    }
   ],
   "source": [
    "# Заполнение пропусков в числовых признаках медианой (важно, что в тестовой выборке заполняем медианой из тренировочной)\n",
    "X_train[numerical_cols] = X_train[numerical_cols].fillna(X_train[numerical_cols].median())\n",
    "X_test[numerical_cols] = X_test[numerical_cols].fillna(X_train[numerical_cols].median())\n",
    "\n",
    "# Проверка на пропущенные значения\n",
    "print(\"Пропущенные значения в тренировочной выборке:\")\n",
    "print(X_train.isnull().sum())\n",
    "print(\"\\nПропущенные значения в тестовой выборке:\")\n",
    "print(X_test.isnull().sum())"
   ]
  },
  {
   "cell_type": "markdown",
   "metadata": {},
   "source": [
    "#### Обработка выбросов \n",
    "\n"
   ]
  },
  {
   "cell_type": "code",
   "execution_count": null,
   "metadata": {},
   "outputs": [
    {
     "data": {
      "image/png": "[encoded data removed]",
      "text/plain": [
       "<Figure size 1200x900 with 9 Axes>"
      ]
     },
     "metadata": {},
     "output_type": "display_data"
    }
   ],
   "source": [
    "# Построение box plot для числовых переменных\n",
    "fig, axes = plt.subplots(3, 3, figsize=(12, 9))\n",
    "axes = axes.flatten()\n",
    "\n",
    "# Построение box plot для каждой числовой переменной\n",
    "for i, column in enumerate(df.select_dtypes(include='number').columns):\n",
    "    sns.boxplot(x=df[column], ax=axes[i])\n",
    "    axes[i].set_title(f'{column}')\n",
    "\n",
    "plt.tight_layout()\n",
    "plt.show()"
   ]
  },
  {
   "cell_type": "code",
   "execution_count": 98,
   "metadata": {},
   "outputs": [],
   "source": [
    "import numpy as np\n",
    "from sklearn.preprocessing import RobustScaler\n",
    "\n",
    "# 1. Удаление выбросов с использованием IQR для признаков с длинными хвостами\n",
    "# Признаки, для которых применяем IQR\n",
    "columns_iqr = ['total_rooms', 'total_bedrooms', 'population', 'households', 'median_income']\n",
    "\n",
    "# Рассчитываем границы на основе IQR (межквартильного размаха)\n",
    "Q1 = X_train[columns_iqr].quantile(0.01)  # Нижний 1-й перцентиль\n",
    "Q3 = X_train[columns_iqr].quantile(0.99)  # Верхний 99-й перцентиль\n",
    "IQR = Q3 - Q1\n",
    "lower_bound_iqr = Q1 - 1.5 * IQR\n",
    "upper_bound_iqr = Q3 + 1.5 * IQR\n",
    "\n",
    "# Ограничиваем выбросы (усечение значений, выходящих за границы)\n",
    "for col in columns_iqr:\n",
    "    X_train[col] = X_train[col].clip(lower=lower_bound_iqr[col], upper=upper_bound_iqr[col])\n",
    "    X_test[col] = X_test[col].clip(lower=lower_bound_iqr[col], upper=upper_bound_iqr[col])\n",
    "\n",
    "# 2. Winsorization для менее проблемных признаков\n",
    "# Признаки с минимальными выбросами\n",
    "columns_winsor = ['longitude', 'latitude', 'housing_median_age']\n",
    "\n",
    "# Рассчитываем границы Winsorization (1-й и 99-й перцентиль)\n",
    "lower_bound = X_train[columns_winsor].quantile(0.01)\n",
    "upper_bound = X_train[columns_winsor].quantile(0.99)\n",
    "\n",
    "# Ограничиваем значения по этим границам\n",
    "X_train[columns_winsor] = X_train[columns_winsor].clip(lower=lower_bound, upper=upper_bound, axis=1)\n",
    "X_test[columns_winsor] = X_test[columns_winsor].clip(lower=lower_bound, upper=upper_bound, axis=1)\n",
    "\n",
    "# 3. Масштабирование данных\n",
    "# Применяем RobustScaler, чтобы масштабировать данные с учетом устойчивости к выбросам\n",
    "scaler = RobustScaler()\n",
    "X_train[numerical_cols] = scaler.fit_transform(X_train[numerical_cols])\n",
    "X_test[numerical_cols] = scaler.transform(X_test[numerical_cols])\n",
    "\n",
    "# Результат готов (копируем для сохранности)\n",
    "X_train_processed = X_train.copy()\n",
    "X_test_processed = X_test.copy()"
   ]
  },
  {
   "cell_type": "markdown",
   "metadata": {},
   "source": [
    "#### Посмотрим на выбросы теперь\n",
    "(ура их нет)"
   ]
  },
  {
   "cell_type": "code",
   "execution_count": 99,
   "metadata": {},
   "outputs": [
    {
     "data": {
      "image/png": "[encoded data removed]",
      "text/plain": [
       "<Figure size 1500x1000 with 8 Axes>"
      ]
     },
     "metadata": {},
     "output_type": "display_data"
    }
   ],
   "source": [
    "# Построение boxplot для числовых переменных после обработки\n",
    "fig, axes = plt.subplots(3, 3, figsize=(15, 10))\n",
    "axes = axes.flatten()\n",
    "\n",
    "# Выбор числовых переменных\n",
    "numerical_columns = X_train_processed.select_dtypes(include='number').columns\n",
    "\n",
    "# Построение box plot для каждой числовой переменной\n",
    "for i, column in enumerate(numerical_columns):\n",
    "    sns.boxplot(x=X_train_processed[column], ax=axes[i])\n",
    "    axes[i].set_title(f'{column}')\n",
    "\n",
    "# Убираем лишние пустые подграфики\n",
    "for j in range(len(numerical_columns), len(axes)):\n",
    "    fig.delaxes(axes[j])\n",
    "\n",
    "plt.tight_layout()\n",
    "plt.show()\n"
   ]
  },
  {
   "cell_type": "markdown",
   "metadata": {},
   "source": [
    "#### Обработка категориальных признаков с OneHotEncoder\n"
   ]
  },
  {
   "cell_type": "code",
   "execution_count": 106,
   "metadata": {},
   "outputs": [
    {
     "name": "stdout",
     "output_type": "stream",
     "text": [
      "['ocean_proximity_<1H OCEAN' 'ocean_proximity_INLAND'\n",
      " 'ocean_proximity_ISLAND' 'ocean_proximity_NEAR BAY'\n",
      " 'ocean_proximity_NEAR OCEAN']\n"
     ]
    }
   ],
   "source": [
    "from sklearn.preprocessing import OneHotEncoder\n",
    "\n",
    "# Создаем копии обработанных данных\n",
    "X_train_processed = X_train.copy()\n",
    "X_test_processed = X_test.copy()\n",
    "\n",
    "# Выделяем категориальные признаки\n",
    "categorical_cols = X_train.select_dtypes(include=['object']).columns\n",
    "\n",
    "# Проверяем наличие пропущенных значений и заполняем их модой\n",
    "for col in categorical_cols:\n",
    "    X_train_processed[col] = X_train_processed[col].fillna(X_train_processed[col].mode()[0])\n",
    "    X_test_processed[col] = X_test_processed[col].fillna(X_train_processed[col].mode()[0])\n",
    "\n",
    "# Применяем One-Hot Encoding\n",
    "encoder = OneHotEncoder(handle_unknown='ignore', sparse_output=False)  # Заменили sparse на sparse_output\n",
    "encoded_train = encoder.fit_transform(X_train_processed[categorical_cols])\n",
    "encoded_test = encoder.transform(X_test_processed[categorical_cols])\n",
    "\n",
    "# Получаем имена новых столбцов из one-hot encoding\n",
    "encoded_columns = encoder.get_feature_names_out(categorical_cols)\n",
    "\n",
    "# Создаем DataFrame из закодированных данных\n",
    "encoded_train_df = pd.DataFrame(encoded_train, columns=encoded_columns, index=X_train_processed.index)\n",
    "encoded_test_df = pd.DataFrame(encoded_test, columns=encoded_columns, index=X_test_processed.index)\n",
    "\n",
    "# Добавляем закодированные категориальные признаки к обработанным данным\n",
    "X_train_processed = pd.concat([X_train_processed.drop(columns=categorical_cols), encoded_train_df], axis=1)\n",
    "X_test_processed = pd.concat([X_test_processed.drop(columns=categorical_cols), encoded_test_df], axis=1)\n",
    "\n",
    "print(encoded_columns)"
   ]
  },
  {
   "cell_type": "markdown",
   "metadata": {},
   "source": [
    "#### Обучение линейной регресии на данных обработанных более детально"
   ]
  },
  {
   "cell_type": "code",
   "execution_count": 112,
   "metadata": {},
   "outputs": [
    {
     "name": "stdout",
     "output_type": "stream",
     "text": [
      "Качество модели линейной регрессии:\n",
      "MSE: 4446211045.72, MAE: 49269.49, R^2: 0.67\n"
     ]
    }
   ],
   "source": [
    "# Обучение модели линейной регрессии\n",
    "model = LinearRegression()\n",
    "model.fit(X_train_processed, y_train)\n",
    "\n",
    "# Предсказания на тестовой выборке\n",
    "y_pred = model.predict(X_test_processed)\n",
    "# Оценка качества модели\n",
    "mse = mean_squared_error(y_test, y_pred)\n",
    "mae = mean_absolute_error(y_test, y_pred)\n",
    "r2 = r2_score(y_test, y_pred)\n",
    "\n",
    "# Вывод результатов\n",
    "print(\"Качество модели линейной регрессии:\")\n",
    "print(f\"MSE: {mse:.2f}, MAE: {mae:.2f}, R^2: {r2:.2f}\")"
   ]
  },
  {
   "cell_type": "markdown",
   "metadata": {},
   "source": [
    "### **Вывод по лабораторной работе**\n",
    "\n",
    "#### **Сравнение результатов двух пайплайнов**\n",
    "| **Часть** | **MSE**             | **MAE**       | **R²**  | **Ключевые изменения в пайплайне**                                   |\n",
    "|------------|---------------------|---------------|---------|------------------------------------------------------------------------|\n",
    "| **Часть 1** | 4,998,677,973.81   | 51,079.21     | 0.63    | Пропуски заполнены средним, масштабирование StandardScaler, OneHotEncoding |\n",
    "| **Часть 2** | 4,446,211,045.72   | 49,269.49     | 0.67    | Пропуски заполнены медианой, обработка выбросов, масштабирование RobustScaler, OneHotEncoding |\n",
    "\n",
    "#### **Анализ результатов**\n",
    "1. **Среднеквадратическая ошибка (MSE)** снизилась на ~11%, что указывает на улучшение предсказательной способности модели для крупных ошибок.\n",
    "2. **Средняя абсолютная ошибка (MAE)** также уменьшилась на ~4%, что говорит о повышении точности модели в среднем.\n",
    "3. **Коэффициент детерминации (R²)** увеличился с 0.63 до 0.67, что демонстрирует лучшее объяснение дисперсии целевой переменной моделью.\n",
    "\n",
    "#### **Итак...**\n",
    "Во второй части пайплайна, благодаря обработке выбросов (IQR, Winsorization), замене пропусков медианой, и использованию более устойчивого метода масштабирования (RobustScaler), удалось добиться улучшения качества модели линейной регрессии. Обработка выбросов и использование медианы позволили снизить влияние экстремальных значений, а RobustScaler обеспечил устойчивость к оставшимся выбросам. Эти изменения сделали модель более точной и устойчивой, что подтверждается улучшением всех метрик.\n",
    "\n",
    "Рекомендуется использовать подход из Часть 2 для данных с выбросами и сильной асимметрией."
   ]
  }
 ],
 "metadata": {
  "kernelspec": {
   "display_name": ".venv",
   "language": "python",
   "name": "python3"
  },
  "language_info": {
   "codemirror_mode": {
    "name": "ipython",
    "version": 3
   },
   "file_extension": ".py",
   "mimetype": "text/x-python",
   "name": "python",
   "nbconvert_exporter": "python",
   "pygments_lexer": "ipython3",
   "version": "3.10.14"
  }
 },
 "nbformat": 4,
 "nbformat_minor": 2
}
